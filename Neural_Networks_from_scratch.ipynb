{
  "nbformat": 4,
  "nbformat_minor": 0,
  "metadata": {
    "colab": {
      "name": "Neural Networks from scratch.ipynb",
      "provenance": [],
      "collapsed_sections": []
    },
    "kernelspec": {
      "name": "python3",
      "display_name": "Python 3"
    }
  },
  "cells": [
    {
      "cell_type": "code",
      "metadata": {
        "id": "UatrQcK7GzVb",
        "colab_type": "code",
        "colab": {}
      },
      "source": [
        "import numpy as np"
      ],
      "execution_count": 1,
      "outputs": []
    },
    {
      "cell_type": "code",
      "metadata": {
        "id": "0wwDlxkGLq8e",
        "colab_type": "code",
        "colab": {}
      },
      "source": [
        "#Input matrix\n",
        "X = np.array([[1,0,1,0],\n",
        "              [1,0,1,1],\n",
        "              [0,1,0,1]])\n",
        "\n",
        "#Output matrix\n",
        "Y = np.array([[1],\n",
        "              [1],\n",
        "              [0]])"
      ],
      "execution_count": 2,
      "outputs": []
    },
    {
      "cell_type": "code",
      "metadata": {
        "id": "NDUc71-efCdk",
        "colab_type": "code",
        "colab": {}
      },
      "source": [
        "#Sigmoid function\n",
        "def sigmoid(x):\n",
        "  return 1/(1 + np.exp(-x))\n",
        "\n",
        "#Derivative of sigmoid function\n",
        "def sigmoid_derivative(x):\n",
        "  return x*(1-x)"
      ],
      "execution_count": 3,
      "outputs": []
    },
    {
      "cell_type": "code",
      "metadata": {
        "id": "4jkz58Cqfiu8",
        "colab_type": "code",
        "colab": {}
      },
      "source": [
        "#Variable initialization\n",
        "epochs = 5000 #Setting training iterations\n",
        "lr = 0.1 #Setting learning rate\n",
        "input_layer_neurons = X.shape[1] #No. of features in the dataset\n",
        "hidden_layer_neurons = 3 #No. of hidden layer neurons\n",
        "output_layer_neurons = 1 #No. of output layer neurons"
      ],
      "execution_count": 4,
      "outputs": []
    },
    {
      "cell_type": "code",
      "metadata": {
        "id": "1KjlrVsQgq5o",
        "colab_type": "code",
        "colab": {}
      },
      "source": [
        "#Weight and bias initialization\n",
        "wh = np.random.uniform(size=(input_layer_neurons,hidden_layer_neurons))\n",
        "bh = np.random.uniform(size=(1,hidden_layer_neurons))\n",
        "wout = np.random.uniform(size=(hidden_layer_neurons,output_layer_neurons))\n",
        "bout = np.random.uniform(size=(1,output_layer_neurons))"
      ],
      "execution_count": 5,
      "outputs": []
    },
    {
      "cell_type": "code",
      "metadata": {
        "id": "_kVeMjpvhsY_",
        "colab_type": "code",
        "colab": {
          "base_uri": "https://localhost:8080/",
          "height": 72
        },
        "outputId": "f389b559-6bea-4e69-f24b-dfb926a42a65"
      },
      "source": [
        "for i in range(epochs):\n",
        "\n",
        "  #Forward propagation\n",
        "  hidden_layer_input1 = np.dot(X,wh)\n",
        "  hidden_layer_input = hidden_layer_input1 + bh\n",
        "  hidden_layer_activation = sigmoid(hidden_layer_input)\n",
        "  output_layer_input1 = np.dot(hidden_layer_activation,wout)\n",
        "  output_layer_input = output_layer_input1 + bout\n",
        "  output = sigmoid(output_layer_input)\n",
        "\n",
        "  #Backword propagation\n",
        "  E = Y - output\n",
        "  slope_output_layer = sigmoid_derivative(output)\n",
        "  slope_hidden_layer = sigmoid_derivative(hidden_layer_activation)\n",
        "  d_output = E*slope_output_layer\n",
        "  error_at_hidden_layer = d_output.dot(wout.T)\n",
        "  d_hidden_layer = error_at_hidden_layer*slope_hidden_layer\n",
        "  wout += hidden_layer_activation.T.dot(d_output)*lr\n",
        "  bout += np.sum(d_output,axis=0,keepdims=True)*lr\n",
        "  wh += X.T.dot(d_hidden_layer)*lr\n",
        "  bh += np.sum(d_hidden_layer,axis=0,keepdims=True)*lr\n",
        "\n",
        "\n",
        "print(output)"
      ],
      "execution_count": 7,
      "outputs": [
        {
          "output_type": "stream",
          "text": [
            "[[0.97014092]\n",
            " [0.96124149]\n",
            " [0.05299566]]\n"
          ],
          "name": "stdout"
        }
      ]
    },
    {
      "cell_type": "code",
      "metadata": {
        "id": "TYAYQplpmO5G",
        "colab_type": "code",
        "colab": {}
      },
      "source": [
        ""
      ],
      "execution_count": null,
      "outputs": []
    }
  ]
}